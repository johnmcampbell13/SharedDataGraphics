{
 "cells": [
  {
   "cell_type": "markdown",
   "metadata": {},
   "source": [
    "# ELISA - Explore the Data"
   ]
  },
  {
   "cell_type": "markdown",
   "metadata": {},
   "source": [
    "## Python Environment"
   ]
  },
  {
   "cell_type": "code",
   "execution_count": 1,
   "metadata": {},
   "outputs": [],
   "source": [
    "import os\n",
    "import pandas as pd\n",
    "import seaborn as sns\n",
    "import mysql.connector\n",
    "from sqlalchemy import create_engine\n",
    "from sqlalchemy import (Column, DateTime, Integer, Numeric, Float, String, Text)\n",
    "\n",
    "%matplotlib inline\n",
    "import matplotlib.pyplot as plt\n",
    "import numpy as np\n",
    "\n",
    "from pathlib import Path\n",
    "from dotenv import load_dotenv"
   ]
  },
  {
   "cell_type": "markdown",
   "metadata": {},
   "source": [
    "## User Environment"
   ]
  },
  {
   "cell_type": "code",
   "execution_count": 2,
   "metadata": {},
   "outputs": [
    {
     "name": "stdout",
     "output_type": "stream",
     "text": [
      "DR29Dev\n"
     ]
    }
   ],
   "source": [
    "env_path = Path('.')/'.env'\n",
    "load_dotenv(\".env\")\n",
    "DB_USER = os.environ.get('DB_USER')\n",
    "DB_PASSWORD = os.environ.get('DB_PASSWORD')\n",
    "DB_SERVER = os.environ.get('DB_SERVER')\n",
    "DB_DATABASE = os.environ.get('DB_DATABASE')\n",
    "print(DB_DATABASE)"
   ]
  },
  {
   "cell_type": "markdown",
   "metadata": {},
   "source": [
    "## Database Connection"
   ]
  },
  {
   "cell_type": "code",
   "execution_count": 3,
   "metadata": {},
   "outputs": [],
   "source": [
    "conn = f\"mysql+mysqlconnector://{DB_USER}:{DB_PASSWORD}@{DB_SERVER}:3306/{DB_DATABASE}\"\n",
    "db_conn = create_engine(conn, echo=False)"
   ]
  },
  {
   "cell_type": "markdown",
   "metadata": {},
   "source": [
    "# Retrieve ELISA Results"
   ]
  },
  {
   "cell_type": "code",
   "execution_count": 5,
   "metadata": {},
   "outputs": [
    {
     "name": "stdout",
     "output_type": "stream",
     "text": [
      "(10, 7)\n"
     ]
    },
    {
     "data": {
      "text/html": [
       "<div>\n",
       "<style scoped>\n",
       "    .dataframe tbody tr th:only-of-type {\n",
       "        vertical-align: middle;\n",
       "    }\n",
       "\n",
       "    .dataframe tbody tr th {\n",
       "        vertical-align: top;\n",
       "    }\n",
       "\n",
       "    .dataframe thead th {\n",
       "        text-align: right;\n",
       "    }\n",
       "</style>\n",
       "<table border=\"1\" class=\"dataframe\">\n",
       "  <thead>\n",
       "    <tr style=\"text-align: right;\">\n",
       "      <th></th>\n",
       "      <th>immunology_symbol</th>\n",
       "      <th>analyte_reported</th>\n",
       "      <th>unit_reported</th>\n",
       "      <th>unit_preferred</th>\n",
       "      <th>value_reported</th>\n",
       "      <th>value_preferred</th>\n",
       "      <th>study_accession</th>\n",
       "    </tr>\n",
       "  </thead>\n",
       "  <tbody>\n",
       "    <tr>\n",
       "      <th>0</th>\n",
       "      <td>None</td>\n",
       "      <td>IgG-a Amb a</td>\n",
       "      <td>U/ml</td>\n",
       "      <td>None</td>\n",
       "      <td>114.8</td>\n",
       "      <td>114.80</td>\n",
       "      <td>SDY1</td>\n",
       "    </tr>\n",
       "    <tr>\n",
       "      <th>1</th>\n",
       "      <td>None</td>\n",
       "      <td>IgG-a Ragweed</td>\n",
       "      <td>ng/ml</td>\n",
       "      <td>ng/ml</td>\n",
       "      <td>100</td>\n",
       "      <td>100.00</td>\n",
       "      <td>SDY1</td>\n",
       "    </tr>\n",
       "    <tr>\n",
       "      <th>2</th>\n",
       "      <td>None</td>\n",
       "      <td>Free IgE Concentration</td>\n",
       "      <td>ng/ml</td>\n",
       "      <td>None</td>\n",
       "      <td>None</td>\n",
       "      <td>NaN</td>\n",
       "      <td>SDY1</td>\n",
       "    </tr>\n",
       "    <tr>\n",
       "      <th>3</th>\n",
       "      <td>None</td>\n",
       "      <td>IgE-a Amb a</td>\n",
       "      <td>U/ml</td>\n",
       "      <td>None</td>\n",
       "      <td>5</td>\n",
       "      <td>5.00</td>\n",
       "      <td>SDY1</td>\n",
       "    </tr>\n",
       "    <tr>\n",
       "      <th>4</th>\n",
       "      <td>None</td>\n",
       "      <td>IgE-a Ragweed</td>\n",
       "      <td>kIUa/ml</td>\n",
       "      <td>None</td>\n",
       "      <td>2.49</td>\n",
       "      <td>2.49</td>\n",
       "      <td>SDY1</td>\n",
       "    </tr>\n",
       "    <tr>\n",
       "      <th>5</th>\n",
       "      <td>None</td>\n",
       "      <td>IgG-a Amb a</td>\n",
       "      <td>U/ml</td>\n",
       "      <td>None</td>\n",
       "      <td>2112</td>\n",
       "      <td>2112.00</td>\n",
       "      <td>SDY1</td>\n",
       "    </tr>\n",
       "    <tr>\n",
       "      <th>6</th>\n",
       "      <td>None</td>\n",
       "      <td>IgG-a Ragweed</td>\n",
       "      <td>ng/ml</td>\n",
       "      <td>ng/ml</td>\n",
       "      <td>2606</td>\n",
       "      <td>2606.00</td>\n",
       "      <td>SDY1</td>\n",
       "    </tr>\n",
       "    <tr>\n",
       "      <th>7</th>\n",
       "      <td>None</td>\n",
       "      <td>Free IgE Concentration</td>\n",
       "      <td>ng/ml</td>\n",
       "      <td>None</td>\n",
       "      <td>None</td>\n",
       "      <td>NaN</td>\n",
       "      <td>SDY1</td>\n",
       "    </tr>\n",
       "    <tr>\n",
       "      <th>8</th>\n",
       "      <td>None</td>\n",
       "      <td>IgE-a Amb a</td>\n",
       "      <td>U/ml</td>\n",
       "      <td>None</td>\n",
       "      <td>5</td>\n",
       "      <td>5.00</td>\n",
       "      <td>SDY1</td>\n",
       "    </tr>\n",
       "    <tr>\n",
       "      <th>9</th>\n",
       "      <td>None</td>\n",
       "      <td>IgE-a Ragweed</td>\n",
       "      <td>kIUa/ml</td>\n",
       "      <td>None</td>\n",
       "      <td>2.22</td>\n",
       "      <td>2.22</td>\n",
       "      <td>SDY1</td>\n",
       "    </tr>\n",
       "  </tbody>\n",
       "</table>\n",
       "</div>"
      ],
      "text/plain": [
       "  immunology_symbol        analyte_reported unit_reported unit_preferred  \\\n",
       "0              None             IgG-a Amb a          U/ml           None   \n",
       "1              None           IgG-a Ragweed         ng/ml          ng/ml   \n",
       "2              None  Free IgE Concentration         ng/ml           None   \n",
       "3              None             IgE-a Amb a          U/ml           None   \n",
       "4              None           IgE-a Ragweed       kIUa/ml           None   \n",
       "5              None             IgG-a Amb a          U/ml           None   \n",
       "6              None           IgG-a Ragweed         ng/ml          ng/ml   \n",
       "7              None  Free IgE Concentration         ng/ml           None   \n",
       "8              None             IgE-a Amb a          U/ml           None   \n",
       "9              None           IgE-a Ragweed       kIUa/ml           None   \n",
       "\n",
       "  value_reported  value_preferred study_accession  \n",
       "0          114.8           114.80            SDY1  \n",
       "1            100           100.00            SDY1  \n",
       "2           None              NaN            SDY1  \n",
       "3              5             5.00            SDY1  \n",
       "4           2.49             2.49            SDY1  \n",
       "5           2112          2112.00            SDY1  \n",
       "6           2606          2606.00            SDY1  \n",
       "7           None              NaN            SDY1  \n",
       "8              5             5.00            SDY1  \n",
       "9           2.22             2.22            SDY1  "
      ]
     },
     "execution_count": 5,
     "metadata": {},
     "output_type": "execute_result"
    }
   ],
   "source": [
    "sql = '''\n",
    "SELECT l1.immunology_symbol,\n",
    "       e1.analyte_reported,\n",
    "       e1.unit_reported,\n",
    "       e1.unit_preferred,\n",
    "       e1.value_reported,\n",
    "       e1.value_preferred,\n",
    "       e1.study_accession\n",
    "  FROM elisa_result e1\n",
    "    LEFT OUTER JOIN lk_analyte l1\n",
    "      ON e1.analyte_preferred = l1.analyte_accession\n",
    "LIMIT 10\n",
    "'''\n",
    "elisa_result = pd.read_sql(sql, db_conn)\n",
    "print(elisa_result.shape)\n",
    "number_of_rows = len(elisa_result)\n",
    "pd.set_option(\"display.max_rows\",number_of_rows)\n",
    "elisa_result.head(10)"
   ]
  },
  {
   "cell_type": "code",
   "execution_count": null,
   "metadata": {},
   "outputs": [],
   "source": []
  }
 ],
 "metadata": {
  "kernelspec": {
   "display_name": "Python 3",
   "language": "python",
   "name": "python3"
  },
  "language_info": {
   "codemirror_mode": {
    "name": "ipython",
    "version": 3
   },
   "file_extension": ".py",
   "mimetype": "text/x-python",
   "name": "python",
   "nbconvert_exporter": "python",
   "pygments_lexer": "ipython3",
   "version": "3.7.1"
  }
 },
 "nbformat": 4,
 "nbformat_minor": 2
}
